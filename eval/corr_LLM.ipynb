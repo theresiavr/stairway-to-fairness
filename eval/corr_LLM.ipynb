{
 "cells": [
  {
   "cell_type": "code",
   "execution_count": null,
   "metadata": {},
   "outputs": [],
   "source": [
    "import pandas as pd\n",
    "import glob\n",
    "\n",
    "import matplotlib.pyplot as plt\n",
    "import seaborn as sns\n",
    "import warnings \n",
    "\n",
    "plt.rcParams['figure.dpi'] = 200\n",
    "plt.rcParams['savefig.dpi'] = 600\n",
    "\n",
    "warnings.filterwarnings('ignore')"
   ]
  },
  {
   "cell_type": "code",
   "execution_count": null,
   "metadata": {},
   "outputs": [],
   "source": [
    "list_data = [\"ML-1M\", \"JobRec\", \"LFM-1B\"]\n",
    "pat_p = \"-P| P\"\n",
    "pat_ndcg = \"NDCG\""
   ]
  },
  {
   "cell_type": "code",
   "execution_count": null,
   "metadata": {},
   "outputs": [],
   "source": [
    "cand = glob.glob(\"table/big_table*\")\n",
    "cand = list(reversed(sorted(cand)))[0]\n",
    "cand"
   ]
  },
  {
   "cell_type": "code",
   "execution_count": null,
   "metadata": {},
   "outputs": [],
   "source": [
    "df = pd.read_csv(cand, index_col=[0,1,2])\n",
    "df = df.droplevel(level=1)\n",
    "df"
   ]
  },
  {
   "cell_type": "markdown",
   "metadata": {},
   "source": [
    "# Individual vs all Grp"
   ]
  },
  {
   "cell_type": "code",
   "execution_count": null,
   "metadata": {},
   "outputs": [],
   "source": [
    "from evaluate import Utils\n",
    "\n",
    "utils = Utils()\n",
    "fig, ax = plt.subplots(nrows=len(list_data), ncols=1,\n",
    "                       figsize=(6,6)\n",
    "                       )\n",
    "\n",
    "\n",
    "cbar_ax = fig.add_axes([0.9, 0.15, .015, .7])\n",
    "cbar_ax.tick_params(labelsize=8)\n",
    "\n",
    "hm_kws = dict(annot=True, square=True, vmin=-1, vmax=1, \n",
    "                   cmap=\"coolwarm_r\", annot_kws={\"size\": 10},  \n",
    "                cbar_kws={\"orientation\": \"vertical\"})\n",
    "\n",
    "for i, (ax_id, data) in enumerate(zip(ax, list_data)):\n",
    "    this_data = df.loc[data]\n",
    "\n",
    "    this_data_T = this_data.T\n",
    "    down_cols = this_data_T.columns[this_data_T.columns.str.contains(\"down\")]\n",
    "    this_data_T[down_cols] = this_data_T[down_cols].applymap(lambda x: -x)\n",
    "\n",
    "    this_data_T = this_data_T[this_data_T.columns[~this_data_T.columns.str.contains(\"Dec\")]]\n",
    "\n",
    "    only_NDCG_columns = this_data_T.columns[this_data_T.columns.str.contains(pat_ndcg)]\n",
    "    \n",
    "    for_corr_ndcg = this_data_T[only_NDCG_columns]\n",
    "    for_corr_ndcg.columns = for_corr_ndcg.columns.str.replace(\"\\$.*\\$ \",\"\", regex=True)\n",
    "    for_corr_ndcg.columns = for_corr_ndcg.columns.str.replace(\"\\-NDCG\",\"\", regex=True)\n",
    "\n",
    "    corr_tab_ndcg = for_corr_ndcg.corr(\"kendall\").round(2)\n",
    "    corr_tab_ndcg = corr_tab_ndcg.loc[\"SD-Ind\":\"Atk-Ind\", \"Min\":\"GCE\"]\n",
    "    \n",
    "    hm_NDCG = sns.heatmap(corr_tab_ndcg, ax=ax_id,   \n",
    "                          cbar=i == 0,\n",
    "                        cbar_ax=None if i else cbar_ax,**hm_kws)\n",
    "\n",
    "    new_labels = []\n",
    "    for x in ax_id.get_yticklabels():\n",
    "        the_text = x.get_text()\n",
    "        x.set_text(the_text.replace(\"-Ind\",\"\"))\n",
    "        new_labels.append(x)\n",
    "\n",
    "    ax_id.set_yticklabels(new_labels, rotation=0)\n",
    "    ax_id.set_ylabel(\"$Individual\\ fairness$\", rotation=90)\n",
    "    ax_id.set_xlabel(\"$Group\\ fairness$\", rotation=0)\n",
    "    ax_id.set_title(f\"{data}\", fontsize=14)\n",
    "\n",
    "    \n",
    "plt.tight_layout(w_pad=0.1)\n",
    "timenow = utils.timenow()\n",
    "plt.savefig(f'corr/temp_corr_ind-group_LLM_{timenow}.pdf', bbox_inches='tight')\n",
    "plt.show()\n"
   ]
  }
 ],
 "metadata": {
  "kernelspec": {
   "display_name": "intersect",
   "language": "python",
   "name": "python3"
  },
  "language_info": {
   "codemirror_mode": {
    "name": "ipython",
    "version": 3
   },
   "file_extension": ".py",
   "mimetype": "text/x-python",
   "name": "python",
   "nbconvert_exporter": "python",
   "pygments_lexer": "ipython3",
   "version": "3.11.13"
  }
 },
 "nbformat": 4,
 "nbformat_minor": 2
}
