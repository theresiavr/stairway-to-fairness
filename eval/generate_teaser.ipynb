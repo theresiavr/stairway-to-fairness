{
 "cells": [
  {
   "cell_type": "markdown",
   "metadata": {},
   "source": [
    "This notebook is used to generate the teaser figure and supply information in the teaser table."
   ]
  },
  {
   "cell_type": "code",
   "execution_count": 76,
   "metadata": {},
   "outputs": [],
   "source": [
    "import pandas as pd\n",
    "import numpy as np\n",
    "import matplotlib.pyplot as plt\n",
    "import seaborn as sns"
   ]
  },
  {
   "cell_type": "code",
   "execution_count": null,
   "metadata": {},
   "outputs": [],
   "source": [
    "folder_path = \"per_user_score\"\n",
    "data = \"lfm-1b\"\n",
    "model = \"THUDM_neutral\"\n",
    "\n",
    "per_user_score = pd.read_csv(f\"{folder_path}/{data}_{model}.csv\")\n",
    "per_user_score"
   ]
  },
  {
   "cell_type": "code",
   "execution_count": 85,
   "metadata": {},
   "outputs": [],
   "source": [
    "cmap = sns.cubehelix_palette(dark=.25, light=.75)"
   ]
  },
  {
   "cell_type": "code",
   "execution_count": null,
   "metadata": {},
   "outputs": [],
   "source": [
    "fig, ax = plt.subplots(nrows=3, ncols=1, figsize=(4,1.5))\n",
    "sns.boxplot(per_user_score.query(\"gender=='F' & map_continent=='America & Antarctica' & map_age=='older-adult'\"), x=\"NDCG\", vert=False, color=cmap[0], ax=ax[0], fliersize=3)\n",
    "sns.boxplot(per_user_score.query(\"gender=='F' & map_continent=='America & Antarctica' & map_age=='young'\"), x=\"NDCG\", vert=False, color=cmap[0], ax=ax[1])\n",
    "sns.boxplot(per_user_score.query(\"gender=='F' & map_continent=='America & Antarctica' & map_age!='adult'\"), x=\"NDCG\", vert=False, color=cmap[0], ax=ax[2])\n",
    "\n",
    "ax[0].get_xaxis().set_ticks([])\n",
    "ax[1].get_xaxis().set_ticks([])\n",
    "\n",
    "ax[0].set_yticklabels([\"Group 1\"], rotation=0)\n",
    "ax[1].set_yticklabels([\"Group 2\"], rotation=0)\n",
    "ax[2].set_yticklabels([\"All users\"], rotation=0)\n",
    "\n",
    "for i in range(3):\n",
    "    ax[i].spines['top'].set_visible(False)\n",
    "    ax[i].spines['bottom'].set_visible(False)\n",
    "    \n",
    "ax[0].spines['top'].set_visible(True)\n",
    "ax[2].spines['bottom'].set_visible(True)\n",
    "\n",
    "ax[0].set_xlabel(None)\n",
    "ax[1].set_xlabel(None)\n",
    "\n",
    "\n",
    "plt.savefig(\"per_user_score/teaser_boxplot_singlecolour.pdf\", dpi=600, bbox_inches=\"tight\")\n",
    "plt.show()"
   ]
  },
  {
   "cell_type": "markdown",
   "metadata": {},
   "source": [
    "# Stats"
   ]
  },
  {
   "cell_type": "code",
   "execution_count": 108,
   "metadata": {},
   "outputs": [],
   "source": [
    "grp1 = per_user_score.query(\"gender=='F' & map_continent=='America & Antarctica' & map_age=='older-adult'\")[\"NDCG\"]\n",
    "grp2 = per_user_score.query(\"gender=='F' & map_continent=='America & Antarctica' & map_age=='young'\")[\"NDCG\"]\n",
    "ind = per_user_score.query(\"gender=='F' & map_continent=='America & Antarctica' & map_age!='adult'\")[\"NDCG\"]"
   ]
  },
  {
   "cell_type": "code",
   "execution_count": 109,
   "metadata": {},
   "outputs": [
    {
     "name": "stdout",
     "output_type": "stream",
     "text": [
      "0.5461165748645672 0.4712010564026577 0.47210464269989566\n"
     ]
    }
   ],
   "source": [
    "print(grp1.mean(), grp2.mean(), ind.mean())"
   ]
  },
  {
   "cell_type": "code",
   "execution_count": 93,
   "metadata": {},
   "outputs": [
    {
     "data": {
      "text/plain": [
       "(11, 901, 912)"
      ]
     },
     "execution_count": 93,
     "metadata": {},
     "output_type": "execute_result"
    }
   ],
   "source": [
    "grp1.count(), grp2.count(), ind.count()"
   ]
  },
  {
   "cell_type": "code",
   "execution_count": 96,
   "metadata": {},
   "outputs": [],
   "source": [
    "from evaluate import Fairness"
   ]
  },
  {
   "cell_type": "code",
   "execution_count": 97,
   "metadata": {},
   "outputs": [],
   "source": [
    "fair = Fairness()"
   ]
  },
  {
   "cell_type": "code",
   "execution_count": null,
   "metadata": {},
   "outputs": [
    {
     "data": {
      "text/plain": [
       "0.036820121936051955"
      ]
     },
     "execution_count": 103,
     "metadata": {},
     "output_type": "execute_result"
    }
   ],
   "source": [
    "fair.gini(pd.Series([grp1.mean(), grp2.mean()]))"
   ]
  },
  {
   "cell_type": "code",
   "execution_count": null,
   "metadata": {},
   "outputs": [],
   "source": [
    "print(fair.gini(ind))"
   ]
  }
 ],
 "metadata": {
  "kernelspec": {
   "display_name": "Python 3",
   "language": "python",
   "name": "python3"
  },
  "language_info": {
   "codemirror_mode": {
    "name": "ipython",
    "version": 3
   },
   "file_extension": ".py",
   "mimetype": "text/x-python",
   "name": "python",
   "nbconvert_exporter": "python",
   "pygments_lexer": "ipython3",
   "version": "3.10.4"
  }
 },
 "nbformat": 4,
 "nbformat_minor": 2
}
