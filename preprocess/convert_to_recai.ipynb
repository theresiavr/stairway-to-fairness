{
 "cells": [
  {
   "cell_type": "code",
   "execution_count": 1,
   "metadata": {},
   "outputs": [],
   "source": [
    "%load_ext autoreload\n",
    "%autoreload 2\n"
   ]
  },
  {
   "cell_type": "code",
   "execution_count": null,
   "metadata": {},
   "outputs": [],
   "source": [
    "import pandas as pd\n",
    "from preprocessor import load_cleaned_data, select_and_map_column_for_recai, create_inter_file\n",
    "\n",
    "import os"
   ]
  },
  {
   "cell_type": "code",
   "execution_count": 3,
   "metadata": {},
   "outputs": [],
   "source": [
    "folder_path = \"../cleaned_data\"\n",
    "folder_save = \"../RecAI/RecLM-eval/data\"\n",
    "list_data =  [\"ml-1m\", \"jobrec\", \"lfm-1b\"]"
   ]
  },
  {
   "cell_type": "code",
   "execution_count": 4,
   "metadata": {},
   "outputs": [],
   "source": [
    "map_col_name = {\n",
    "                \"movie_title\": \"title\",\n",
    "                \"Title\": \"title\",\n",
    "                \"name\": \"title\",\n",
    "                    }"
   ]
  },
  {
   "cell_type": "code",
   "execution_count": null,
   "metadata": {},
   "outputs": [],
   "source": [
    "for data in list_data:\n",
    "    save_path = f\"{folder_save}/{data}\"\n",
    "\n",
    "    if not os.path.exists(save_path):\n",
    "        os.makedirs(save_path)\n",
    "    \n",
    "    df_train, df_val, df_test, df_user, df_item = load_cleaned_data(f\"{folder_path}/{data}\")\n",
    "\n",
    "    #save user attribute of test users only\n",
    "    df_user = df_user[df_user.in_test]\n",
    "    list_user_in_test = df_user.user_id\n",
    "\n",
    "    df_train = df_train[df_train.user_id.isin(list_user_in_test)]\n",
    "    df_val = df_val[df_val.user_id.isin(list_user_in_test)]\n",
    "    df_test = df_test[df_test.user_id.isin(list_user_in_test)]\n",
    "\n",
    "    # print(len(df_train), len(df_val), len(df_test))\n",
    "\n",
    "    df_train = df_train[df_train.item_id.isin(df_item.item_id)]\n",
    "    df_val = df_val[df_val.item_id.isin(df_item.item_id)]\n",
    "    df_test = df_test[df_test.item_id.isin(df_item.item_id)]\n",
    "    # print(len(df_train), len(df_val), len(df_test))\n",
    "\n",
    "    #add test user_ids to val\n",
    "    augmented = df_test[[\"user_id\"]][~df_test.user_id.isin(df_val.user_id)].drop_duplicates().reset_index(drop=True)\n",
    "    augmented[\"item_id\"] = -1\n",
    "    augmented[\"timestamp\"] = -1\n",
    "    augmented[\"num_repeat\"] = -1\n",
    "\n",
    "    df_val = pd.concat([df_val, augmented])\n",
    "\n",
    "    df_train_filtered = create_inter_file(df_train, \"train\", save_path)\n",
    "    df_val_filtered = create_inter_file(df_val, \"val\", save_path)\n",
    "    create_inter_file(df_test, \"test\", save_path)\n",
    "\n",
    "    #save the test items, and then the last 10 of train and last 10 of val items of users in test\n",
    "    set_item = set()\n",
    "\n",
    "    for row in df_train_filtered.item_id.values:\n",
    "        list_row = [int(x) for x in row]\n",
    "        set_item.update(set(list_row))\n",
    "\n",
    "    for row in df_val_filtered.item_id.values:\n",
    "        list_row = [int(x) for x in row]\n",
    "        set_item.update(set(list_row))\n",
    "\n",
    "    for row in df_test.item_id.values:\n",
    "        set_item.update(set([row]))\n",
    "\n",
    "    df_item = df_item[df_item.item_id.isin(set_item)]\n",
    "\n",
    "    df_item\\\n",
    "        .rename(columns=map_col_name)\\\n",
    "        .to_json(f\"{save_path}/metadata.json\", index=False, orient=\"records\", lines=True)\n",
    "    \n",
    "    df_user = select_and_map_column_for_recai(df_user, data)\n",
    "    display(df_user)\n",
    "\n",
    "    df_user.to_json(f\"{save_path}/user_data.json\", index=False, orient=\"records\", lines=True)"
   ]
  }
 ],
 "metadata": {
  "kernelspec": {
   "display_name": "intersect",
   "language": "python",
   "name": "python3"
  },
  "language_info": {
   "codemirror_mode": {
    "name": "ipython",
    "version": 3
   },
   "file_extension": ".py",
   "mimetype": "text/x-python",
   "name": "python",
   "nbconvert_exporter": "python",
   "pygments_lexer": "ipython3",
   "version": "3.11.10"
  }
 },
 "nbformat": 4,
 "nbformat_minor": 2
}
