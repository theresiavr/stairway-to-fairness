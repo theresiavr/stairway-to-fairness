{
 "cells": [
  {
   "cell_type": "markdown",
   "metadata": {},
   "source": [
    "# JobRec"
   ]
  },
  {
   "cell_type": "code",
   "execution_count": null,
   "metadata": {},
   "outputs": [],
   "source": [
    "%load_ext autoreload\n",
    "%autoreload 2"
   ]
  },
  {
   "cell_type": "code",
   "execution_count": null,
   "metadata": {},
   "outputs": [],
   "source": [
    "import pandas as pd\n",
    "import numpy as np"
   ]
  },
  {
   "cell_type": "code",
   "execution_count": null,
   "metadata": {},
   "outputs": [],
   "source": [
    "user_job = pd.read_table(\"../raw_data/job-recommendation/users.tsv\")\n",
    "user_job = user_job[[\"UserID\", \"Major\",\"DegreeType\", \"TotalYearsExperience\"]]"
   ]
  },
  {
   "cell_type": "code",
   "execution_count": null,
   "metadata": {},
   "outputs": [],
   "source": [
    "apps = pd.read_table(\"../raw_data/job-recommendation/apps.tsv\")\n",
    "apps"
   ]
  },
  {
   "cell_type": "code",
   "execution_count": null,
   "metadata": {},
   "outputs": [],
   "source": [
    "df_jobs_full = pd.read_table(\"../raw_data/job-recommendation/jobs.tsv\",on_bad_lines='warn')\n",
    "df_jobs_full"
   ]
  },
  {
   "cell_type": "code",
   "execution_count": null,
   "metadata": {},
   "outputs": [],
   "source": [
    "df_jobs = pd.read_table(\"../raw_data/job-recommendation/jobs.tsv\",on_bad_lines='warn',usecols=[\"JobID\",\"Title\"])\n",
    "df_jobs"
   ]
  },
  {
   "cell_type": "code",
   "execution_count": null,
   "metadata": {},
   "outputs": [],
   "source": [
    "user_job.shape[0] #different from the one in apps.tsv"
   ]
  },
  {
   "cell_type": "code",
   "execution_count": null,
   "metadata": {},
   "outputs": [],
   "source": [
    "apps.UserID.unique().shape #reported unique users"
   ]
  },
  {
   "cell_type": "markdown",
   "metadata": {},
   "source": [
    "# Clean data"
   ]
  },
  {
   "cell_type": "code",
   "execution_count": null,
   "metadata": {},
   "outputs": [],
   "source": [
    "from preprocessor import filter_data, preprocess_column"
   ]
  },
  {
   "cell_type": "code",
   "execution_count": null,
   "metadata": {},
   "outputs": [],
   "source": [
    "apps = preprocess_column(apps)\n",
    "user_job = preprocess_column(user_job)\n",
    "df_jobs = preprocess_column(df_jobs)"
   ]
  },
  {
   "cell_type": "code",
   "execution_count": null,
   "metadata": {},
   "outputs": [],
   "source": [
    "df_train, df_val, df_test, filtered_user, filtered_item = filter_data(\"jobs\", apps, user_job, df_jobs, core_filter=5, min_inter=2)"
   ]
  },
  {
   "cell_type": "code",
   "execution_count": null,
   "metadata": {},
   "outputs": [],
   "source": [
    "filtered_user = filtered_user[[\"user_id\",\n",
    "                               \"DegreeType\", \n",
    "                               \"Major\",\n",
    "                               \"TotalYearsExperience\"\n",
    "                               ]]\n",
    "filtered_user"
   ]
  },
  {
   "cell_type": "code",
   "execution_count": null,
   "metadata": {},
   "outputs": [],
   "source": [
    "filtered_user[\"in_test\"] = filtered_user[\"user_id\"].isin(df_test.user_id)\n",
    "filtered_user"
   ]
  },
  {
   "cell_type": "markdown",
   "metadata": {},
   "source": [
    "# User grouping"
   ]
  },
  {
   "cell_type": "code",
   "execution_count": null,
   "metadata": {},
   "outputs": [],
   "source": [
    "map_degree = {\n",
    "                \"Bachelor's\":\"University\",\n",
    "                \"Master's\":\"University\",\n",
    "                \"PhD\":\"University\",\n",
    "                \"Associate's\":\"College\",\n",
    "                \"High School\":\"High School\",\n",
    "                \"Vocational\":\"College\"\n",
    "              }\n",
    "filtered_user[\"map_degree\"] = filtered_user.DegreeType.map(map_degree)"
   ]
  },
  {
   "cell_type": "code",
   "execution_count": null,
   "metadata": {},
   "outputs": [],
   "source": [
    "filtered_user.TotalYearsExperience = filtered_user.TotalYearsExperience.astype(int)"
   ]
  },
  {
   "cell_type": "code",
   "execution_count": null,
   "metadata": {},
   "outputs": [],
   "source": [
    "min_year = filtered_user.TotalYearsExperience.min()\n",
    "max_year = filtered_user.TotalYearsExperience.max()"
   ]
  },
  {
   "cell_type": "code",
   "execution_count": null,
   "metadata": {},
   "outputs": [],
   "source": [
    "experience_years = [\"$\\leq$5\", \">5--10\", \">10\"]\n",
    "\n",
    "filtered_user[\"map_experience\"] = pd.cut(filtered_user[\"TotalYearsExperience\"], \n",
    "                                        [-1,5, 10, max_year], \n",
    "                                        labels=experience_years)"
   ]
  },
  {
   "cell_type": "code",
   "execution_count": null,
   "metadata": {},
   "outputs": [],
   "source": [
    "filtered_test_user = filtered_user[filtered_user.in_test]"
   ]
  },
  {
   "cell_type": "markdown",
   "metadata": {},
   "source": [
    "## Major analysis"
   ]
  },
  {
   "cell_type": "code",
   "execution_count": null,
   "metadata": {},
   "outputs": [],
   "source": [
    "num_unique_major = filtered_user.Major.str.lower().nunique()\n",
    "num_unique_major"
   ]
  },
  {
   "cell_type": "code",
   "execution_count": null,
   "metadata": {},
   "outputs": [],
   "source": [
    "num_unique_major_test = filtered_test_user.Major.str.lower().nunique()\n",
    "num_unique_major_test"
   ]
  },
  {
   "cell_type": "code",
   "execution_count": null,
   "metadata": {},
   "outputs": [],
   "source": [
    "num_unique_major - num_unique_major_test"
   ]
  },
  {
   "cell_type": "code",
   "execution_count": null,
   "metadata": {},
   "outputs": [],
   "source": [
    "all_major = filtered_user.Major.str.lower().unique()\n",
    "test_user_major = filtered_test_user.Major.str.lower().unique()\n",
    "\n",
    "unannotated_major = np.setdiff1d(all_major, test_user_major, assume_unique=True)"
   ]
  },
  {
   "cell_type": "code",
   "execution_count": null,
   "metadata": {},
   "outputs": [],
   "source": [
    "filtered_user.shape[0]"
   ]
  },
  {
   "cell_type": "code",
   "execution_count": null,
   "metadata": {},
   "outputs": [],
   "source": [
    "filtered_user.query(\"map_degree!='High School'\").Major.str.lower()\\\n",
    "                        .isin(unannotated_major)\\\n",
    "                        .sum()"
   ]
  },
  {
   "cell_type": "code",
   "execution_count": null,
   "metadata": {},
   "outputs": [],
   "source": [
    "annotate_path = \"to_annotate\"\n",
    "\n",
    "#commented to avoid rewriting\n",
    "\n",
    "# pd.DataFrame(filtered_test_user.query(\"map_degree=='High School'\").Major.str.lower().value_counts())\\\n",
    "#                                                                                         .to_csv(f\"{annotate_path}/test_user_major_HS.csv\")"
   ]
  },
  {
   "cell_type": "code",
   "execution_count": null,
   "metadata": {},
   "outputs": [],
   "source": [
    "# pd.DataFrame(filtered_test_user.query(\"map_degree!='High School'\").Major.str.lower().value_counts())\\\n",
    "#                                                                                     .to_csv(f\"{annotate_path}/test_user_major_nonHS.csv\")"
   ]
  },
  {
   "cell_type": "code",
   "execution_count": null,
   "metadata": {},
   "outputs": [],
   "source": [
    "# pd.DataFrame(filtered_user.query(\"(~in_test) &( map_degree!='High School')\").Major.str.lower().value_counts())\\\n",
    "#                                                                 .to_csv(f\"{annotate_path}/list_major_nonHS_users_not_in_test.csv\")"
   ]
  },
  {
   "cell_type": "markdown",
   "metadata": {},
   "source": [
    "# After annotation"
   ]
  },
  {
   "cell_type": "code",
   "execution_count": null,
   "metadata": {},
   "outputs": [],
   "source": [
    "annotated_major = pd.read_csv(\"annotated/annotated_test_user_major_nonHS.csv\")\n",
    "annotated_major = annotated_major[[\"Major\", \"category\"]]\n",
    "annotated_major[\"category\"] = annotated_major[\"category\"]\\\n",
    "                                                    .str.replace(\" &\", \",\")\\\n",
    "                                                    .str.replace(\"Health, Medical\", \"Health \\& Medical\")"
   ]
  },
  {
   "cell_type": "code",
   "execution_count": null,
   "metadata": {},
   "outputs": [],
   "source": [
    "list_major = annotated_major.Major\n",
    "list_category = annotated_major.category"
   ]
  },
  {
   "cell_type": "code",
   "execution_count": null,
   "metadata": {},
   "outputs": [],
   "source": [
    "map_major = dict(zip(list_major, list_category))"
   ]
  },
  {
   "cell_type": "code",
   "execution_count": null,
   "metadata": {},
   "outputs": [],
   "source": [
    "filtered_user[\"map_major\"] = filtered_user[\"Major\"]\\\n",
    "                                                .str.lower()\\\n",
    "                                                .map(map_major)\n",
    "\n",
    "filtered_test_user[\"map_major\"] = filtered_test_user[\"Major\"]\\\n",
    "                                                            .str.lower()\\\n",
    "                                                            .map(map_major)"
   ]
  },
  {
   "cell_type": "code",
   "execution_count": null,
   "metadata": {},
   "outputs": [],
   "source": [
    "# get rid of high school majors in general\n",
    "filtered_user.loc[filtered_user.DegreeType==\"High School\", \"map_major\"] = \"-\"\n",
    "filtered_test_user.loc[filtered_test_user.DegreeType==\"High School\", \"map_major\"] = \"-\""
   ]
  },
  {
   "cell_type": "code",
   "execution_count": null,
   "metadata": {},
   "outputs": [],
   "source": [
    "filtered_user.shape[0], filtered_user.query(\"map_major!='Drop'\").shape[0]"
   ]
  },
  {
   "cell_type": "code",
   "execution_count": null,
   "metadata": {},
   "outputs": [],
   "source": [
    "# drop users with invalid/generic majors\n",
    "filtered_user = filtered_user.query(\"map_major!='Drop'\")\n",
    "filtered_test_user = filtered_test_user.query(\"map_major!='Drop'\")"
   ]
  },
  {
   "cell_type": "code",
   "execution_count": null,
   "metadata": {},
   "outputs": [],
   "source": [
    "assert filtered_test_user.map_major.isna().sum() == 0 "
   ]
  },
  {
   "cell_type": "code",
   "execution_count": null,
   "metadata": {},
   "outputs": [],
   "source": [
    "from stats import print_stats"
   ]
  },
  {
   "cell_type": "code",
   "execution_count": null,
   "metadata": {},
   "outputs": [],
   "source": [
    "val_count_degree = filtered_test_user.value_counts(\"map_degree\")\n",
    "val_count_exp = filtered_test_user.value_counts(\"map_experience\")\n",
    "val_count_major = filtered_test_user.value_counts(\"map_major\")"
   ]
  },
  {
   "cell_type": "code",
   "execution_count": null,
   "metadata": {},
   "outputs": [],
   "source": [
    "print_stats(val_count_degree)"
   ]
  },
  {
   "cell_type": "code",
   "execution_count": null,
   "metadata": {},
   "outputs": [],
   "source": [
    "print_stats(val_count_exp)"
   ]
  },
  {
   "cell_type": "code",
   "execution_count": null,
   "metadata": {},
   "outputs": [],
   "source": [
    "print_stats(val_count_major)"
   ]
  },
  {
   "cell_type": "code",
   "execution_count": null,
   "metadata": {},
   "outputs": [],
   "source": [
    "col_names = filtered_test_user.columns[-3:]"
   ]
  },
  {
   "cell_type": "code",
   "execution_count": null,
   "metadata": {},
   "outputs": [],
   "source": [
    "groupings = [\"degree\",\"experience (years)\",\"major\"]\n",
    "\n",
    "\n",
    "filtered_user_grouping_HS = filtered_test_user\\\n",
    "            .rename(columns=dict(zip(col_names, groupings)))\\\n",
    "            .groupby(groupings)[[\"user_id\"]]\\\n",
    "            .count()\\\n",
    "            .rename(columns={\"user_id\":\"\\#user\"})\\\n",
    "            .reindex([\"High School\"], level=0)\\\n",
    "            .reindex(experience_years, level=1)\\\n",
    "            .reindex([\"-\"], level=2)"
   ]
  },
  {
   "cell_type": "code",
   "execution_count": null,
   "metadata": {},
   "outputs": [],
   "source": [
    "major_index = val_count_major.index[1:]\n",
    "major_index"
   ]
  },
  {
   "cell_type": "code",
   "execution_count": null,
   "metadata": {},
   "outputs": [],
   "source": [
    "filtered_user_grouping_non_HS = filtered_test_user\\\n",
    "            .rename(columns=dict(zip(col_names, groupings)))\\\n",
    "            .groupby(groupings)[[\"user_id\"]]\\\n",
    "            .count()\\\n",
    "            .rename(columns={\"user_id\":\"\\#user\"})\\\n",
    "            .reindex([\"College\", \"University\"], level=0)\\\n",
    "            .reindex(experience_years, level=1)\\\n",
    "            .reindex(major_index, level=2)\n",
    "filtered_user_grouping_non_HS"
   ]
  },
  {
   "cell_type": "code",
   "execution_count": null,
   "metadata": {},
   "outputs": [],
   "source": [
    "filtered_user_grouping = pd.concat([filtered_user_grouping_HS, filtered_user_grouping_non_HS])\n",
    "nonzero_filtered_user_grouping = filtered_user_grouping[filtered_user_grouping[\"\\\\#user\"]>0]\n",
    "nonzero_filtered_user_grouping"
   ]
  },
  {
   "cell_type": "code",
   "execution_count": null,
   "metadata": {},
   "outputs": [],
   "source": [
    "print(nonzero_filtered_user_grouping.to_latex())"
   ]
  },
  {
   "cell_type": "code",
   "execution_count": null,
   "metadata": {},
   "outputs": [],
   "source": [
    "nonzero_filtered_user_grouping\\\n",
    "                    .describe()\\\n",
    "                    .loc[[\"count\", \"min\", \"50%\", \"max\"]]\\\n",
    "                    .astype(int)"
   ]
  },
  {
   "cell_type": "markdown",
   "metadata": {},
   "source": [
    "# Handle non-test user with no \"map_major\" annotation \n",
    "This ends up not being used for LLMRecs, as we only prompt for the test users."
   ]
  },
  {
   "cell_type": "code",
   "execution_count": null,
   "metadata": {},
   "outputs": [],
   "source": [
    "filtered_user_no_major = filtered_user[filtered_user.map_major.isna()][[\"user_id\", \"Major\"]]\n",
    "filtered_user_no_major"
   ]
  },
  {
   "cell_type": "code",
   "execution_count": null,
   "metadata": {},
   "outputs": [],
   "source": [
    "from rapidfuzz import fuzz, utils, process\n",
    "\n",
    "def fuzzy_match(unannotated_major):\n",
    "    return process.extractOne(unannotated_major, annotated_major.Major,\n",
    "                              scorer=fuzz.token_set_ratio, processor=utils.default_process)"
   ]
  },
  {
   "cell_type": "code",
   "execution_count": null,
   "metadata": {},
   "outputs": [],
   "source": [
    "unique_no_major = filtered_user_no_major[[\"Major\"]].drop_duplicates(\"Major\").reset_index()\n",
    "unique_no_major"
   ]
  },
  {
   "cell_type": "code",
   "execution_count": null,
   "metadata": {},
   "outputs": [],
   "source": [
    "unique_no_major[\"match_result\"] = unique_no_major.Major.apply(fuzzy_match)\n",
    "unique_no_major[\"match\"] = unique_no_major.match_result.apply(lambda x: x[0])\n",
    "unique_no_major[\"match_score\"] = unique_no_major.match_result.apply(lambda x: x[1])\n",
    "unique_no_major[\"match_idx\"] = unique_no_major.match_result.apply(lambda x: x[2])"
   ]
  },
  {
   "cell_type": "code",
   "execution_count": null,
   "metadata": {},
   "outputs": [],
   "source": [
    "unique_no_major.drop(columns=\"match_result\", inplace=True)"
   ]
  },
  {
   "cell_type": "code",
   "execution_count": null,
   "metadata": {},
   "outputs": [],
   "source": [
    "thresh = 75"
   ]
  },
  {
   "cell_type": "code",
   "execution_count": null,
   "metadata": {},
   "outputs": [],
   "source": [
    "val_count_match_score = unique_no_major.value_counts(\"match_score\")\n",
    "val_count_match_score[val_count_match_score.index<thresh].sum()"
   ]
  },
  {
   "cell_type": "code",
   "execution_count": null,
   "metadata": {},
   "outputs": [],
   "source": [
    "unique_no_major.query(\"@thresh<= match_score <= 80\").sort_values(\"match_score\")"
   ]
  },
  {
   "cell_type": "code",
   "execution_count": null,
   "metadata": {},
   "outputs": [],
   "source": [
    "unique_no_major[\"category\"] = unique_no_major\\\n",
    "                                    .apply(lambda x: \"Others\" if x.match_score < thresh else annotated_major.at[x.match_idx,\"category\"], axis=1)"
   ]
  },
  {
   "cell_type": "code",
   "execution_count": null,
   "metadata": {},
   "outputs": [],
   "source": [
    "filtered_user_no_major[\"category\"] = filtered_user_no_major.Major.apply(lambda x: unique_no_major.loc[unique_no_major.Major==x,\"category\"].values[0])"
   ]
  },
  {
   "cell_type": "code",
   "execution_count": null,
   "metadata": {},
   "outputs": [],
   "source": [
    "filtered_user[\"map_major\"] = filtered_user.apply(lambda x: \n",
    "                                        filtered_user_no_major.loc[\n",
    "                                            filtered_user_no_major.user_id==x.user_id, \"category\"].values[0] \n",
    "                                        if type(x.map_major) == float\n",
    "                                        else x.map_major, axis=1)"
   ]
  },
  {
   "cell_type": "code",
   "execution_count": null,
   "metadata": {},
   "outputs": [],
   "source": [
    "filtered_user = filtered_user[filtered_user.map_major != \"Drop\"]"
   ]
  },
  {
   "cell_type": "code",
   "execution_count": null,
   "metadata": {},
   "outputs": [],
   "source": [
    "filtered_user.value_counts(\"map_major\")"
   ]
  },
  {
   "cell_type": "markdown",
   "metadata": {},
   "source": [
    "# Save and stats"
   ]
  },
  {
   "cell_type": "code",
   "execution_count": null,
   "metadata": {},
   "outputs": [],
   "source": [
    "from stats import get_df_stats\n",
    "from preprocessor import prepare_to_save, general_save"
   ]
  },
  {
   "cell_type": "code",
   "execution_count": null,
   "metadata": {},
   "outputs": [],
   "source": [
    "df_train, df_val, df_test, filtered_item = prepare_to_save(df_train, df_val, df_test, filtered_user, filtered_item)"
   ]
  },
  {
   "cell_type": "code",
   "execution_count": null,
   "metadata": {},
   "outputs": [],
   "source": [
    "get_df_stats(df_train, df_val, df_test, filtered_user, filtered_item)"
   ]
  },
  {
   "cell_type": "code",
   "execution_count": null,
   "metadata": {},
   "outputs": [],
   "source": [
    "# general save\n",
    "data_name = \"../cleaned_data/jobrec\"\n",
    "general_save(df_train, df_val, df_test, filtered_user, filtered_item, data_name)"
   ]
  }
 ],
 "metadata": {
  "kernelspec": {
   "display_name": "intersect",
   "language": "python",
   "name": "python3"
  },
  "language_info": {
   "codemirror_mode": {
    "name": "ipython",
    "version": 3
   },
   "file_extension": ".py",
   "mimetype": "text/x-python",
   "name": "python",
   "nbconvert_exporter": "python",
   "pygments_lexer": "ipython3",
   "version": "3.11.13"
  }
 },
 "nbformat": 4,
 "nbformat_minor": 2
}
