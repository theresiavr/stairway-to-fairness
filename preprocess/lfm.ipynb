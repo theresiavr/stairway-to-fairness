{
 "cells": [
  {
   "cell_type": "markdown",
   "metadata": {},
   "source": [
    "## LFM-1B"
   ]
  },
  {
   "cell_type": "code",
   "execution_count": null,
   "metadata": {},
   "outputs": [],
   "source": [
    "%load_ext autoreload\n",
    "%autoreload 2"
   ]
  },
  {
   "cell_type": "code",
   "execution_count": null,
   "metadata": {},
   "outputs": [],
   "source": [
    "import pandas as pd\n",
    "\n",
    "from preprocessor import load_data, preprocess_column, filter_data\n",
    "\n",
    "data_name = \"lfm1b-artists\"\n",
    "path = f\"../raw_data/{data_name}\""
   ]
  },
  {
   "cell_type": "code",
   "execution_count": null,
   "metadata": {},
   "outputs": [],
   "source": [
    "df_inter, df_user, df_item = load_data(path, data_name)"
   ]
  },
  {
   "cell_type": "code",
   "execution_count": null,
   "metadata": {},
   "outputs": [],
   "source": [
    "df_inter = preprocess_column(df_inter)\n",
    "df_user = preprocess_column(df_user)\n",
    "df_item = preprocess_column(df_item)"
   ]
  },
  {
   "cell_type": "code",
   "execution_count": null,
   "metadata": {},
   "outputs": [],
   "source": [
    "df_inter"
   ]
  },
  {
   "cell_type": "markdown",
   "metadata": {},
   "source": [
    "# Clean and split data"
   ]
  },
  {
   "cell_type": "code",
   "execution_count": null,
   "metadata": {},
   "outputs": [],
   "source": [
    "df_train, df_val, df_test, filtered_user, filtered_item = filter_data(data_name, df_inter, df_user, df_item, core_filter=50)"
   ]
  },
  {
   "cell_type": "markdown",
   "metadata": {},
   "source": [
    "# Group users"
   ]
  },
  {
   "cell_type": "markdown",
   "metadata": {},
   "source": [
    "## Gender & age"
   ]
  },
  {
   "cell_type": "code",
   "execution_count": null,
   "metadata": {},
   "outputs": [],
   "source": [
    "filtered_user.gender = filtered_user.gender.str.upper()"
   ]
  },
  {
   "cell_type": "code",
   "execution_count": null,
   "metadata": {},
   "outputs": [],
   "source": [
    "min_age = filtered_user.age.min()\n",
    "max_age = filtered_user.age.max()"
   ]
  },
  {
   "cell_type": "code",
   "execution_count": null,
   "metadata": {},
   "outputs": [],
   "source": [
    "age_label = [\"young\", \"adult\", \"older-adult\"]\n",
    "\n",
    "filtered_user[\"map_age\"] = pd.cut(filtered_user[\"age\"], \n",
    "                                        [min_age-1,24, 49, max_age], \n",
    "                                        labels=age_label)\n"
   ]
  },
  {
   "cell_type": "markdown",
   "metadata": {},
   "source": [
    "## Map country to continent"
   ]
  },
  {
   "cell_type": "code",
   "execution_count": null,
   "metadata": {},
   "outputs": [],
   "source": [
    "country_code_table = pd.read_csv(\"https://gist.githubusercontent.com/achuhunkin/6cb1cbceb23395300aa209aad09e6e5d/raw/f5bc73e0de4f0d7d441795531cec1b4e950e5b61/countries.csv\")\n",
    "country_code_table[country_code_table.duplicated(\"Two_Letter_Country_Code\", keep=False)]"
   ]
  },
  {
   "cell_type": "code",
   "execution_count": null,
   "metadata": {},
   "outputs": [],
   "source": [
    "#countries that are part of two continents, manual selection\n",
    "index_to_drop = [8,16,58,82,114,169, 189, 190, 192,233, 235, 244, 245,247, 253, 263]\n",
    "country_code_table = country_code_table.drop(index=index_to_drop)\n"
   ]
  },
  {
   "cell_type": "code",
   "execution_count": null,
   "metadata": {},
   "outputs": [],
   "source": [
    "list_country_code = country_code_table.Two_Letter_Country_Code\n",
    "list_continent = country_code_table.Continent_Name\n",
    "list_country_name = country_code_table.Country_Name\n",
    "\n",
    "map_code_country = dict(zip(list_country_code, list_country_name))\n",
    "map_code_continent = dict(zip(list_country_code, list_continent))"
   ]
  },
  {
   "cell_type": "code",
   "execution_count": null,
   "metadata": {},
   "outputs": [],
   "source": [
    "filtered_user.country[~filtered_user.country.isin(country_code_table.Two_Letter_Country_Code)].unique()"
   ]
  },
  {
   "cell_type": "code",
   "execution_count": null,
   "metadata": {},
   "outputs": [],
   "source": [
    "#change GB to UK\n",
    "filtered_user.loc[filtered_user.country==\"UK\", \"country\"] = \"GB\""
   ]
  },
  {
   "cell_type": "code",
   "execution_count": null,
   "metadata": {},
   "outputs": [],
   "source": [
    "filtered_user[\"country_name\"] = filtered_user.country.map(map_code_country)\n",
    "filtered_user[\"continent\"] = filtered_user.country.map(map_code_continent)"
   ]
  },
  {
   "cell_type": "code",
   "execution_count": null,
   "metadata": {},
   "outputs": [],
   "source": [
    "filtered_user.loc[filtered_user.country==\"AQ\", \"country_name\"] = \"Antarctica\"\n",
    "filtered_user.loc[filtered_user.country==\"AQ\", \"continent\"] = \"Antarctica\""
   ]
  },
  {
   "cell_type": "code",
   "execution_count": null,
   "metadata": {},
   "outputs": [],
   "source": [
    "assert filtered_user[filtered_user.country.isna()].shape[0] == 0\n",
    "assert filtered_user[filtered_user.continent.isna()].shape[0] == 0"
   ]
  },
  {
   "cell_type": "code",
   "execution_count": null,
   "metadata": {},
   "outputs": [],
   "source": [
    "map_continent = {\n",
    "    \"Europe\":\"Europe\",\n",
    "    \"North America\": \"America & Antarctica\",\n",
    "    \"South America\": \"America & Antarctica\",\n",
    "    \"Asia\": \"Asia\",\n",
    "    \"Oceania\":\"Oceania\",\n",
    "    \"Africa\":\"Africa\",\n",
    "    \"Antarctica\":\"America & Antarctica\"\n",
    "}\n",
    "filtered_user[\"map_continent\"] = filtered_user.continent.map(map_continent)"
   ]
  },
  {
   "cell_type": "code",
   "execution_count": null,
   "metadata": {},
   "outputs": [],
   "source": [
    "filtered_user.continent.value_counts()"
   ]
  },
  {
   "cell_type": "code",
   "execution_count": null,
   "metadata": {},
   "outputs": [],
   "source": [
    "filtered_user.map_continent.value_counts()"
   ]
  },
  {
   "cell_type": "markdown",
   "metadata": {},
   "source": [
    "# Filter test users"
   ]
  },
  {
   "cell_type": "code",
   "execution_count": null,
   "metadata": {},
   "outputs": [],
   "source": [
    "filtered_user[\"in_test\"] = filtered_user.user_id.isin(df_test.user_id)\n",
    "filtered_test_user = filtered_user[filtered_user.in_test]\n",
    "filtered_test_user"
   ]
  },
  {
   "cell_type": "code",
   "execution_count": null,
   "metadata": {},
   "outputs": [],
   "source": [
    "filtered_test_user.gender.value_counts()"
   ]
  },
  {
   "cell_type": "code",
   "execution_count": null,
   "metadata": {},
   "outputs": [],
   "source": [
    "from stats import print_stats"
   ]
  },
  {
   "cell_type": "code",
   "execution_count": null,
   "metadata": {},
   "outputs": [],
   "source": [
    "val_count_age = filtered_test_user.map_age.value_counts()\n",
    "\n",
    "print_stats(val_count_age)"
   ]
  },
  {
   "cell_type": "code",
   "execution_count": null,
   "metadata": {},
   "outputs": [],
   "source": [
    "val_count_cont = filtered_test_user.map_continent.value_counts()\n",
    "print_stats(val_count_cont)"
   ]
  },
  {
   "cell_type": "code",
   "execution_count": null,
   "metadata": {},
   "outputs": [],
   "source": [
    "sort_continent = filtered_test_user.map_continent.value_counts().index"
   ]
  },
  {
   "cell_type": "code",
   "execution_count": null,
   "metadata": {},
   "outputs": [],
   "source": [
    "filtered_user_grouping = filtered_test_user\\\n",
    "                                .groupby([\"gender\",\"map_age\",\"map_continent\"])[[\"user_id\"]]\\\n",
    "                                .count()\\\n",
    "                                .rename(columns={\"user_id\":\"\\#user\"})\\\n",
    "                                .reindex(age_label, level=1)\\\n",
    "                                .reindex(sort_continent, level=2)\n",
    "filtered_user_grouping = filtered_user_grouping[filtered_user_grouping[\"\\#user\"]>0]\n",
    "filtered_user_grouping"
   ]
  },
  {
   "cell_type": "code",
   "execution_count": null,
   "metadata": {},
   "outputs": [],
   "source": [
    "print(filtered_user_grouping.to_latex())"
   ]
  },
  {
   "cell_type": "code",
   "execution_count": null,
   "metadata": {},
   "outputs": [],
   "source": [
    "filtered_user_grouping\\\n",
    "                    .describe()\\\n",
    "                    .loc[[\"count\", \"min\", \"50%\", \"max\"]]\\\n",
    "                    .astype(int)"
   ]
  },
  {
   "cell_type": "markdown",
   "metadata": {},
   "source": [
    "# Stats and save"
   ]
  },
  {
   "cell_type": "code",
   "execution_count": null,
   "metadata": {},
   "outputs": [],
   "source": [
    "from stats import get_df_stats\n",
    "from preprocessor import prepare_to_save, general_save\n",
    "\n",
    "df_train, df_val, df_test, filtered_item = prepare_to_save(df_train, df_val, df_test, filtered_user, filtered_item)"
   ]
  },
  {
   "cell_type": "code",
   "execution_count": null,
   "metadata": {},
   "outputs": [],
   "source": [
    "#save the splits and filtered metadata\n",
    "get_df_stats(df_train, df_val, df_test, filtered_user, filtered_item)"
   ]
  },
  {
   "cell_type": "code",
   "execution_count": null,
   "metadata": {},
   "outputs": [],
   "source": [
    "# general save\n",
    "data_name = \"../cleaned_data/lfm-1b\"\n",
    "general_save(df_train, df_val, df_test, filtered_user, filtered_item, data_name)"
   ]
  }
 ],
 "metadata": {
  "kernelspec": {
   "display_name": "intersect",
   "language": "python",
   "name": "python3"
  },
  "language_info": {
   "codemirror_mode": {
    "name": "ipython",
    "version": 3
   },
   "file_extension": ".py",
   "mimetype": "text/x-python",
   "name": "python",
   "nbconvert_exporter": "python",
   "pygments_lexer": "ipython3",
   "version": "3.11.13"
  }
 },
 "nbformat": 4,
 "nbformat_minor": 2
}
