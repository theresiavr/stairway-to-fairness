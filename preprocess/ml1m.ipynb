{
 "cells": [
  {
   "cell_type": "markdown",
   "metadata": {},
   "source": [
    "# ML-1M"
   ]
  },
  {
   "cell_type": "code",
   "execution_count": null,
   "metadata": {},
   "outputs": [],
   "source": [
    "%load_ext autoreload\n",
    "%autoreload 2"
   ]
  },
  {
   "cell_type": "code",
   "execution_count": null,
   "metadata": {},
   "outputs": [],
   "source": [
    "import pandas as pd\n",
    "import numpy as np"
   ]
  },
  {
   "cell_type": "code",
   "execution_count": null,
   "metadata": {},
   "outputs": [],
   "source": [
    "from preprocessor import load_data, preprocess_column, filter_data"
   ]
  },
  {
   "cell_type": "code",
   "execution_count": null,
   "metadata": {},
   "outputs": [],
   "source": [
    "data_name = \"ml-1m\"\n",
    "path = f\"../raw_data/{data_name}\"\n",
    "df_inter, df_user, df_item = load_data(path, data_name)"
   ]
  },
  {
   "cell_type": "code",
   "execution_count": null,
   "metadata": {},
   "outputs": [],
   "source": [
    "df_inter = preprocess_column(df_inter)\n",
    "df_user = preprocess_column(df_user)\n",
    "df_item = preprocess_column(df_item)"
   ]
  },
  {
   "cell_type": "markdown",
   "metadata": {},
   "source": [
    "# Clean data and split"
   ]
  },
  {
   "cell_type": "code",
   "execution_count": null,
   "metadata": {},
   "outputs": [],
   "source": [
    "df_train, df_val, df_test, filtered_user, filtered_item = filter_data(data_name, df_inter, df_user, df_item)"
   ]
  },
  {
   "cell_type": "markdown",
   "metadata": {},
   "source": [
    "# User grouping"
   ]
  },
  {
   "cell_type": "code",
   "execution_count": null,
   "metadata": {},
   "outputs": [],
   "source": [
    "# Age classification 3c \n",
    "# Mnemonic: resident_age_3c\n",
    "\n",
    "# Total number of categories: 3\n",
    "# https://www.ons.gov.uk/census/census2021dictionary/variablesbytopic/demographyvariablescensus2021/age/classifications\n",
    "# Code\tName\n",
    "# 1\tAged 24 years and under\n",
    "# 2\tAged 25 to 49 years\n",
    "# 3\tAged 50 years and over\n",
    "\n",
    "map_age = {\n",
    "    18:\"18--24 years\",\n",
    "    25:\"25--49 years\",\n",
    "    35:\"25--49 years\",\n",
    "    45:\"25--49 years\",\n",
    "    50:\"$\\geq$50 years\",\n",
    "    56:\"$\\geq$50 years\",\n",
    "}\n",
    "\n",
    "map_occupation_2 = {\n",
    "    1: \"working\",\n",
    "    2: \"working\",\n",
    "    3: \"working\",\n",
    "    4: \"non-working\",\n",
    "    5: \"working\",\n",
    "    6: \"working\",\n",
    "    7: \"working\",\n",
    "    8: \"working\",\n",
    "    9: \"non-working\",\n",
    "    10: \"non-working\",\n",
    "    11: \"working\",\n",
    "    12: \"working\",\n",
    "    13: \"non-working\",\n",
    "    14: \"working\",\n",
    "    15: \"working\",\n",
    "    16: \"working\",\n",
    "    17: \"working\",\n",
    "    18: \"working\",\n",
    "    19: \"non-working\",\n",
    "    20: \"working\"\n",
    "}\n"
   ]
  },
  {
   "cell_type": "code",
   "execution_count": null,
   "metadata": {},
   "outputs": [],
   "source": [
    "filtered_user[\"map_age\"] = filtered_user.age.map(map_age)\n",
    "filtered_user[\"map_occupation\"] = filtered_user.occupation.map(map_occupation_2)"
   ]
  },
  {
   "cell_type": "code",
   "execution_count": null,
   "metadata": {},
   "outputs": [],
   "source": [
    "filtered_user[\"in_test\"] = filtered_user[\"user_id\"].isin(df_test.user_id)\n",
    "filtered_user"
   ]
  },
  {
   "cell_type": "code",
   "execution_count": null,
   "metadata": {},
   "outputs": [],
   "source": [
    "filtered_test_user = filtered_user[filtered_user.in_test]"
   ]
  },
  {
   "cell_type": "code",
   "execution_count": null,
   "metadata": {},
   "outputs": [],
   "source": [
    "from stats import print_stats\n",
    "\n",
    "val_count_gender = filtered_test_user.value_counts(\"gender\")\n",
    "val_count_age = filtered_test_user.value_counts(\"map_age\")\n",
    "val_count_occup = filtered_test_user.value_counts(\"map_occupation\")"
   ]
  },
  {
   "cell_type": "code",
   "execution_count": null,
   "metadata": {},
   "outputs": [],
   "source": [
    "print_stats(val_count_gender)\n",
    "print_stats(val_count_age)\n",
    "print_stats(val_count_occup)"
   ]
  },
  {
   "cell_type": "code",
   "execution_count": null,
   "metadata": {},
   "outputs": [],
   "source": [
    "filtered_user_grouping = filtered_test_user\\\n",
    "            .groupby([\"gender\",\"map_age\",\"map_occupation\"])[[\"user_id\"]]\\\n",
    "            .count()\\\n",
    "            .rename(columns={\"user_id\":\"\\#user\"})\\\n",
    "            .reindex([\"M\",\"F\"], level=0)\\\n",
    "            .reindex([\"18--24 years\", \"25--49 years\",\"$\\geq$50 years\",], level=1)\n",
    "filtered_user_grouping"
   ]
  },
  {
   "cell_type": "code",
   "execution_count": null,
   "metadata": {},
   "outputs": [],
   "source": [
    "print(filtered_user_grouping.to_latex())"
   ]
  },
  {
   "cell_type": "code",
   "execution_count": null,
   "metadata": {},
   "outputs": [],
   "source": [
    "filtered_user_grouping.describe().loc[[\"count\",\"min\",\"50%\",\"max\"]].astype(int)"
   ]
  },
  {
   "cell_type": "markdown",
   "metadata": {},
   "source": [
    "# Check duplicate item names"
   ]
  },
  {
   "cell_type": "code",
   "execution_count": null,
   "metadata": {},
   "outputs": [],
   "source": [
    "val_count_movie_title = filtered_item.movie_title.value_counts()\n",
    "val_count_movie_title[val_count_movie_title>1]"
   ]
  },
  {
   "cell_type": "code",
   "execution_count": null,
   "metadata": {},
   "outputs": [],
   "source": [
    "filtered_item[filtered_item.movie_title.str.lower().duplicated(keep=False)]\\\n",
    "            .sort_values(\"movie_title\")\\\n",
    "            .head(50)"
   ]
  },
  {
   "cell_type": "markdown",
   "metadata": {},
   "source": [
    "# Clean item names to fix the ordering of The/A/An/La/Les"
   ]
  },
  {
   "cell_type": "code",
   "execution_count": null,
   "metadata": {},
   "outputs": [],
   "source": [
    "from preprocessor import clean_movie_name"
   ]
  },
  {
   "cell_type": "code",
   "execution_count": null,
   "metadata": {},
   "outputs": [],
   "source": [
    "filtered_item = filtered_item[[\"item_id\", \"movie_title\"]]\n",
    "filtered_item"
   ]
  },
  {
   "cell_type": "code",
   "execution_count": null,
   "metadata": {},
   "outputs": [],
   "source": [
    "# get an idea of what to clean\n",
    "filtered_item.movie_title.str.split(\",\").apply(lambda x: x[1] if len(x)>1 else None).dropna().value_counts().head(50)"
   ]
  },
  {
   "cell_type": "code",
   "execution_count": null,
   "metadata": {},
   "outputs": [],
   "source": [
    "#clean item names from the \"name, article\" \n",
    "\n",
    "filtered_item[\"cleaned_title\"] = filtered_item.movie_title.apply(clean_movie_name)"
   ]
  },
  {
   "cell_type": "code",
   "execution_count": null,
   "metadata": {},
   "outputs": [],
   "source": [
    "#check difference\n",
    "filtered_item[filtered_item.movie_title!=filtered_item.cleaned_title].to_csv(\"to_annotate/check_cleaned_movie_name.csv\")"
   ]
  },
  {
   "cell_type": "code",
   "execution_count": null,
   "metadata": {},
   "outputs": [],
   "source": [
    "filtered_item = filtered_item\\\n",
    "                            .drop(columns=\"movie_title\")\\\n",
    "                            .rename(columns={\"cleaned_title\":\"movie_title\"})"
   ]
  },
  {
   "cell_type": "markdown",
   "metadata": {},
   "source": [
    "# Stats & save"
   ]
  },
  {
   "cell_type": "code",
   "execution_count": null,
   "metadata": {},
   "outputs": [],
   "source": [
    "from stats import get_df_stats\n",
    "from preprocessor import prepare_to_save, general_save"
   ]
  },
  {
   "cell_type": "code",
   "execution_count": null,
   "metadata": {},
   "outputs": [],
   "source": [
    "df_train, df_val, df_test, filtered_item = prepare_to_save(df_train, df_val, df_test, filtered_user, filtered_item)"
   ]
  },
  {
   "cell_type": "code",
   "execution_count": null,
   "metadata": {},
   "outputs": [],
   "source": [
    "#save the splits and filtered metadata\n",
    "get_df_stats(df_train, df_val, df_test, filtered_user, filtered_item)\n",
    "\n",
    "# general save\n",
    "data_name = \"../cleaned_data/ml-1m\"\n",
    "\n",
    "general_save(df_train, df_val, df_test, filtered_user, filtered_item, data_name)"
   ]
  }
 ],
 "metadata": {
  "kernelspec": {
   "display_name": "intersect",
   "language": "python",
   "name": "python3"
  },
  "language_info": {
   "codemirror_mode": {
    "name": "ipython",
    "version": 3
   },
   "file_extension": ".py",
   "mimetype": "text/x-python",
   "name": "python",
   "nbconvert_exporter": "python",
   "pygments_lexer": "ipython3",
   "version": "3.11.10"
  }
 },
 "nbformat": 4,
 "nbformat_minor": 2
}
